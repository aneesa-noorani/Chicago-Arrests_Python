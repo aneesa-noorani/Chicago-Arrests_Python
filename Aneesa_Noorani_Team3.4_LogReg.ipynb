{
 "cells": [
  {
   "cell_type": "markdown",
   "metadata": {},
   "source": [
    "# Library & Data Import"
   ]
  },
  {
   "cell_type": "code",
   "execution_count": 1,
   "metadata": {},
   "outputs": [],
   "source": [
    "from IPython.core.interactiveshell import InteractiveShell\n",
    "InteractiveShell.ast_node_interactivity = \"all\""
   ]
  },
  {
   "cell_type": "code",
   "execution_count": 2,
   "metadata": {},
   "outputs": [],
   "source": [
    "%matplotlib inline\n",
    "import pandas as pd\n",
    "import matplotlib.pyplot as plt\n",
    "\n",
    "import warnings\n",
    "warnings.filterwarnings('ignore')"
   ]
  },
  {
   "cell_type": "code",
   "execution_count": 3,
   "metadata": {},
   "outputs": [],
   "source": [
    "dataset = pd.read_csv('final_crimes.csv')"
   ]
  },
  {
   "cell_type": "markdown",
   "metadata": {},
   "source": [
    "# Logistic Regression Preprocessing"
   ]
  },
  {
   "cell_type": "code",
   "execution_count": 4,
   "metadata": {},
   "outputs": [],
   "source": [
    "    #create 10 dummy variables for the 'Location Description' columns\n",
    "dummy = pd.get_dummies(dataset['Location Description'])\n",
    "#dummy"
   ]
  },
  {
   "cell_type": "code",
   "execution_count": 5,
   "metadata": {},
   "outputs": [
    {
     "data": {
      "text/html": [
       "<div>\n",
       "<style scoped>\n",
       "    .dataframe tbody tr th:only-of-type {\n",
       "        vertical-align: middle;\n",
       "    }\n",
       "\n",
       "    .dataframe tbody tr th {\n",
       "        vertical-align: top;\n",
       "    }\n",
       "\n",
       "    .dataframe thead th {\n",
       "        text-align: right;\n",
       "    }\n",
       "</style>\n",
       "<table border=\"1\" class=\"dataframe\">\n",
       "  <thead>\n",
       "    <tr style=\"text-align: right;\">\n",
       "      <th></th>\n",
       "      <th>Date</th>\n",
       "      <th>ID</th>\n",
       "      <th>Date.1</th>\n",
       "      <th>Block</th>\n",
       "      <th>Primary Type</th>\n",
       "      <th>Description</th>\n",
       "      <th>Location Description</th>\n",
       "      <th>Arrest</th>\n",
       "      <th>Domestic</th>\n",
       "      <th>Beat</th>\n",
       "      <th>District</th>\n",
       "      <th>Ward</th>\n",
       "      <th>Community Area</th>\n",
       "      <th>FBI Code</th>\n",
       "      <th>X Coordinate</th>\n",
       "      <th>Y Coordinate</th>\n",
       "      <th>Location</th>\n",
       "      <th>Year</th>\n",
       "      <th>Month</th>\n",
       "      <th>Day</th>\n",
       "      <th>Hour</th>\n",
       "      <th>Minute</th>\n",
       "      <th>Second</th>\n",
       "      <th>Primary Type Corr</th>\n",
       "      <th>Primary Type Test</th>\n",
       "      <th>Type_factor</th>\n",
       "      <th>Alley</th>\n",
       "      <th>Apartment</th>\n",
       "      <th>Other</th>\n",
       "      <th>Parking Lot</th>\n",
       "      <th>Residence</th>\n",
       "      <th>Retail</th>\n",
       "      <th>Road</th>\n",
       "      <th>School</th>\n",
       "      <th>Sidewalk</th>\n",
       "      <th>Transport Site</th>\n",
       "    </tr>\n",
       "  </thead>\n",
       "  <tbody>\n",
       "    <tr>\n",
       "      <th>0</th>\n",
       "      <td>2003-03-01 00:00:00</td>\n",
       "      <td>4676906</td>\n",
       "      <td>2003-03-01 00:00:00</td>\n",
       "      <td>004XX W 42ND PL</td>\n",
       "      <td>OTHER OFFENSE</td>\n",
       "      <td>HARASSMENT BY TELEPHONE</td>\n",
       "      <td>Residence</td>\n",
       "      <td>False</td>\n",
       "      <td>True</td>\n",
       "      <td>935</td>\n",
       "      <td>9.0</td>\n",
       "      <td>11.0</td>\n",
       "      <td>61.0</td>\n",
       "      <td>26</td>\n",
       "      <td>1173974.0</td>\n",
       "      <td>1876757.0</td>\n",
       "      <td>(41.817229156, -87.637328162)</td>\n",
       "      <td>2003</td>\n",
       "      <td>3</td>\n",
       "      <td>1</td>\n",
       "      <td>0</td>\n",
       "      <td>0</td>\n",
       "      <td>0</td>\n",
       "      <td>0</td>\n",
       "      <td>OTHER OFFENSE</td>\n",
       "      <td>0</td>\n",
       "      <td>0</td>\n",
       "      <td>0</td>\n",
       "      <td>0</td>\n",
       "      <td>0</td>\n",
       "      <td>1</td>\n",
       "      <td>0</td>\n",
       "      <td>0</td>\n",
       "      <td>0</td>\n",
       "      <td>0</td>\n",
       "      <td>0</td>\n",
       "    </tr>\n",
       "    <tr>\n",
       "      <th>1</th>\n",
       "      <td>2003-05-01 01:00:00</td>\n",
       "      <td>4677901</td>\n",
       "      <td>2003-05-01 01:00:00</td>\n",
       "      <td>111XX S NORMAL AVE</td>\n",
       "      <td>THEFT</td>\n",
       "      <td>FINANCIAL ID THEFT:$300 &amp;UNDER</td>\n",
       "      <td>Residence</td>\n",
       "      <td>False</td>\n",
       "      <td>False</td>\n",
       "      <td>2233</td>\n",
       "      <td>22.0</td>\n",
       "      <td>34.0</td>\n",
       "      <td>49.0</td>\n",
       "      <td>06</td>\n",
       "      <td>1174948.0</td>\n",
       "      <td>1831051.0</td>\n",
       "      <td>(41.691784636, -87.635115968)</td>\n",
       "      <td>2003</td>\n",
       "      <td>5</td>\n",
       "      <td>1</td>\n",
       "      <td>1</td>\n",
       "      <td>0</td>\n",
       "      <td>0</td>\n",
       "      <td>1</td>\n",
       "      <td>THEFT</td>\n",
       "      <td>1</td>\n",
       "      <td>0</td>\n",
       "      <td>0</td>\n",
       "      <td>0</td>\n",
       "      <td>0</td>\n",
       "      <td>1</td>\n",
       "      <td>0</td>\n",
       "      <td>0</td>\n",
       "      <td>0</td>\n",
       "      <td>0</td>\n",
       "      <td>0</td>\n",
       "    </tr>\n",
       "    <tr>\n",
       "      <th>2</th>\n",
       "      <td>2001-01-01 11:00:00</td>\n",
       "      <td>4791194</td>\n",
       "      <td>2001-01-01 11:00:00</td>\n",
       "      <td>114XX S ST LAWRENCE AVE</td>\n",
       "      <td>CRIM SEXUAL ASSAULT</td>\n",
       "      <td>PREDATORY</td>\n",
       "      <td>Residence</td>\n",
       "      <td>True</td>\n",
       "      <td>True</td>\n",
       "      <td>531</td>\n",
       "      <td>5.0</td>\n",
       "      <td>9.0</td>\n",
       "      <td>50.0</td>\n",
       "      <td>02</td>\n",
       "      <td>1182247.0</td>\n",
       "      <td>1829375.0</td>\n",
       "      <td>(41.687020002, -87.60844523)</td>\n",
       "      <td>2001</td>\n",
       "      <td>1</td>\n",
       "      <td>1</td>\n",
       "      <td>11</td>\n",
       "      <td>0</td>\n",
       "      <td>0</td>\n",
       "      <td>2</td>\n",
       "      <td>CRIM SEXUAL ASSAULT</td>\n",
       "      <td>2</td>\n",
       "      <td>0</td>\n",
       "      <td>0</td>\n",
       "      <td>0</td>\n",
       "      <td>0</td>\n",
       "      <td>1</td>\n",
       "      <td>0</td>\n",
       "      <td>0</td>\n",
       "      <td>0</td>\n",
       "      <td>0</td>\n",
       "      <td>0</td>\n",
       "    </tr>\n",
       "    <tr>\n",
       "      <th>3</th>\n",
       "      <td>2003-03-15 00:00:00</td>\n",
       "      <td>4679521</td>\n",
       "      <td>2003-03-15 00:00:00</td>\n",
       "      <td>090XX S RACINE AVE</td>\n",
       "      <td>OTHER OFFENSE</td>\n",
       "      <td>OTHER WEAPONS VIOLATION</td>\n",
       "      <td>Residence</td>\n",
       "      <td>False</td>\n",
       "      <td>False</td>\n",
       "      <td>2222</td>\n",
       "      <td>22.0</td>\n",
       "      <td>21.0</td>\n",
       "      <td>73.0</td>\n",
       "      <td>26</td>\n",
       "      <td>1169911.0</td>\n",
       "      <td>1844832.0</td>\n",
       "      <td>(41.729712374, -87.653158513)</td>\n",
       "      <td>2003</td>\n",
       "      <td>3</td>\n",
       "      <td>15</td>\n",
       "      <td>0</td>\n",
       "      <td>0</td>\n",
       "      <td>0</td>\n",
       "      <td>0</td>\n",
       "      <td>OTHER OFFENSE</td>\n",
       "      <td>0</td>\n",
       "      <td>0</td>\n",
       "      <td>0</td>\n",
       "      <td>0</td>\n",
       "      <td>0</td>\n",
       "      <td>1</td>\n",
       "      <td>0</td>\n",
       "      <td>0</td>\n",
       "      <td>0</td>\n",
       "      <td>0</td>\n",
       "      <td>0</td>\n",
       "    </tr>\n",
       "    <tr>\n",
       "      <th>4</th>\n",
       "      <td>2003-01-01 00:00:00</td>\n",
       "      <td>4680124</td>\n",
       "      <td>2003-01-01 00:00:00</td>\n",
       "      <td>009XX S SPAULDING AVE</td>\n",
       "      <td>THEFT</td>\n",
       "      <td>FINANCIAL ID THEFT: OVER $300</td>\n",
       "      <td>Residence</td>\n",
       "      <td>False</td>\n",
       "      <td>False</td>\n",
       "      <td>1134</td>\n",
       "      <td>11.0</td>\n",
       "      <td>24.0</td>\n",
       "      <td>29.0</td>\n",
       "      <td>06</td>\n",
       "      <td>1154521.0</td>\n",
       "      <td>1895755.0</td>\n",
       "      <td>(41.869772159, -87.708180162)</td>\n",
       "      <td>2003</td>\n",
       "      <td>1</td>\n",
       "      <td>1</td>\n",
       "      <td>0</td>\n",
       "      <td>0</td>\n",
       "      <td>0</td>\n",
       "      <td>1</td>\n",
       "      <td>THEFT</td>\n",
       "      <td>1</td>\n",
       "      <td>0</td>\n",
       "      <td>0</td>\n",
       "      <td>0</td>\n",
       "      <td>0</td>\n",
       "      <td>1</td>\n",
       "      <td>0</td>\n",
       "      <td>0</td>\n",
       "      <td>0</td>\n",
       "      <td>0</td>\n",
       "      <td>0</td>\n",
       "    </tr>\n",
       "  </tbody>\n",
       "</table>\n",
       "</div>"
      ],
      "text/plain": [
       "                  Date       ID               Date.1                    Block  \\\n",
       "0  2003-03-01 00:00:00  4676906  2003-03-01 00:00:00          004XX W 42ND PL   \n",
       "1  2003-05-01 01:00:00  4677901  2003-05-01 01:00:00       111XX S NORMAL AVE   \n",
       "2  2001-01-01 11:00:00  4791194  2001-01-01 11:00:00  114XX S ST LAWRENCE AVE   \n",
       "3  2003-03-15 00:00:00  4679521  2003-03-15 00:00:00       090XX S RACINE AVE   \n",
       "4  2003-01-01 00:00:00  4680124  2003-01-01 00:00:00    009XX S SPAULDING AVE   \n",
       "\n",
       "          Primary Type                     Description Location Description  \\\n",
       "0        OTHER OFFENSE         HARASSMENT BY TELEPHONE            Residence   \n",
       "1                THEFT  FINANCIAL ID THEFT:$300 &UNDER            Residence   \n",
       "2  CRIM SEXUAL ASSAULT                       PREDATORY            Residence   \n",
       "3        OTHER OFFENSE         OTHER WEAPONS VIOLATION            Residence   \n",
       "4                THEFT   FINANCIAL ID THEFT: OVER $300            Residence   \n",
       "\n",
       "   Arrest  Domestic  Beat  District  Ward  Community Area FBI Code  \\\n",
       "0   False      True   935       9.0  11.0            61.0       26   \n",
       "1   False     False  2233      22.0  34.0            49.0       06   \n",
       "2    True      True   531       5.0   9.0            50.0       02   \n",
       "3   False     False  2222      22.0  21.0            73.0       26   \n",
       "4   False     False  1134      11.0  24.0            29.0       06   \n",
       "\n",
       "   X Coordinate  Y Coordinate                       Location  Year  Month  \\\n",
       "0     1173974.0     1876757.0  (41.817229156, -87.637328162)  2003      3   \n",
       "1     1174948.0     1831051.0  (41.691784636, -87.635115968)  2003      5   \n",
       "2     1182247.0     1829375.0   (41.687020002, -87.60844523)  2001      1   \n",
       "3     1169911.0     1844832.0  (41.729712374, -87.653158513)  2003      3   \n",
       "4     1154521.0     1895755.0  (41.869772159, -87.708180162)  2003      1   \n",
       "\n",
       "   Day  Hour  Minute  Second  Primary Type Corr    Primary Type Test  \\\n",
       "0    1     0       0       0                  0        OTHER OFFENSE   \n",
       "1    1     1       0       0                  1                THEFT   \n",
       "2    1    11       0       0                  2  CRIM SEXUAL ASSAULT   \n",
       "3   15     0       0       0                  0        OTHER OFFENSE   \n",
       "4    1     0       0       0                  1                THEFT   \n",
       "\n",
       "   Type_factor  Alley  Apartment  Other  Parking Lot  Residence  Retail  Road  \\\n",
       "0            0      0          0      0            0          1       0     0   \n",
       "1            1      0          0      0            0          1       0     0   \n",
       "2            2      0          0      0            0          1       0     0   \n",
       "3            0      0          0      0            0          1       0     0   \n",
       "4            1      0          0      0            0          1       0     0   \n",
       "\n",
       "   School  Sidewalk  Transport Site  \n",
       "0       0         0               0  \n",
       "1       0         0               0  \n",
       "2       0         0               0  \n",
       "3       0         0               0  \n",
       "4       0         0               0  "
      ]
     },
     "execution_count": 5,
     "metadata": {},
     "output_type": "execute_result"
    }
   ],
   "source": [
    "    #concatenate dummy variables w/ rest of dataframe\n",
    "new_df = pd.concat([dataset, dummy], axis=1)\n",
    "new_df.head()"
   ]
  },
  {
   "cell_type": "code",
   "execution_count": 6,
   "metadata": {},
   "outputs": [
    {
     "data": {
      "text/plain": [
       "Index(['Date', 'ID', 'Date.1', 'Block', 'Primary Type', 'Description',\n",
       "       'Location Description', 'Arrest', 'Domestic', 'Beat', 'District',\n",
       "       'Ward', 'Community Area', 'FBI Code', 'X Coordinate', 'Y Coordinate',\n",
       "       'Location', 'Year', 'Month', 'Day', 'Hour', 'Minute', 'Second',\n",
       "       'Primary Type Corr', 'Primary Type Test', 'Type_factor', 'Alley',\n",
       "       'Apartment', 'Other', 'Parking Lot', 'Residence', 'Retail', 'Road',\n",
       "       'School', 'Sidewalk', 'Transport Site'],\n",
       "      dtype='object')"
      ]
     },
     "execution_count": 6,
     "metadata": {},
     "output_type": "execute_result"
    }
   ],
   "source": [
    "new_df.columns"
   ]
  },
  {
   "cell_type": "markdown",
   "metadata": {},
   "source": [
    "# First iteration"
   ]
  },
  {
   "cell_type": "code",
   "execution_count": 7,
   "metadata": {},
   "outputs": [],
   "source": [
    "from sklearn.linear_model import LogisticRegression\n",
    "from sklearn.model_selection import train_test_split"
   ]
  },
  {
   "cell_type": "code",
   "execution_count": 8,
   "metadata": {},
   "outputs": [],
   "source": [
    "    # Iteration 1\n",
    "X = new_df[['Domestic', 'Beat', 'District', 'Ward', 'Community Area',\n",
    "            'X Coordinate', 'Y Coordinate', 'Year', 'Month', 'Type_factor',\n",
    "            'Alley', 'Apartment', 'Other', 'Parking Lot', 'Residence', 'Retail', \n",
    "            'Road', 'School', 'Sidewalk', 'Transport Site']]\n",
    "\n",
    "    #convert 'Arrest' to Boolean\n",
    "Y = new_df['Arrest'].astype('uint8')\n",
    "Y = new_df['Arrest']"
   ]
  },
  {
   "cell_type": "code",
   "execution_count": 9,
   "metadata": {},
   "outputs": [],
   "source": [
    "X_train, X_test, y_train, y_test = train_test_split(X, Y, test_size=0.3, stratify=Y, random_state=42)"
   ]
  },
  {
   "cell_type": "code",
   "execution_count": 10,
   "metadata": {},
   "outputs": [
    {
     "name": "stdout",
     "output_type": "stream",
     "text": [
      "lr.coef_: [[-4.31767295e-01 -3.77891493e-06 -6.02894258e-03 -3.46077389e-03\n",
      "  -3.31231822e-04 -3.04126608e-06  2.14812419e-06 -9.43120334e-04\n",
      "  -9.56713619e-03  2.94323167e-01  1.91310577e-01 -6.06891319e-01\n",
      "   2.75464493e-01 -2.35816031e-01 -6.92459438e-01  1.63915393e+00\n",
      "  -2.97224980e-01 -4.71246697e-01  1.70903104e-01  3.21228552e-02]]\n",
      "lr.intercept_: [0.00531649]\n",
      "Training set score: 0.746\n",
      "Test set score: 0.747\n"
     ]
    }
   ],
   "source": [
    "logreg1 = LogisticRegression(class_weight = 'balanced').fit(X_train, y_train)\n",
    "#logreg1 = LogisticRegression().fit(X_train, y_train)\n",
    "\n",
    "print(\"lr.coef_:\", logreg1.coef_)\n",
    "print(\"lr.intercept_:\", logreg1.intercept_)\n",
    "\n",
    "print(\"Training set score: {:.3f}\".format(logreg1.score(X_train, y_train)))\n",
    "print(\"Test set score: {:.3f}\".format(logreg1.score(X_test, y_test)))"
   ]
  },
  {
   "cell_type": "markdown",
   "metadata": {},
   "source": [
    "# First iteration - Model Evaluation"
   ]
  },
  {
   "cell_type": "code",
   "execution_count": 11,
   "metadata": {},
   "outputs": [
    {
     "name": "stdout",
     "output_type": "stream",
     "text": [
      "[[1145214  392954]\n",
      " [ 150425  454973]]\n"
     ]
    }
   ],
   "source": [
    "    #Evaluating iteration 1\n",
    "y_pred1 = logreg1.predict(X_test)\n",
    "\n",
    "from sklearn.metrics import confusion_matrix\n",
    "print(confusion_matrix(y_test, y_pred1))"
   ]
  },
  {
   "cell_type": "code",
   "execution_count": 12,
   "metadata": {},
   "outputs": [
    {
     "name": "stdout",
     "output_type": "stream",
     "text": [
      "Precision score: 0.5366\n",
      "Recall score: 0.7515\n",
      "Accuracy score: 0.7465\n",
      "F1 score: 0.6261\n"
     ]
    }
   ],
   "source": [
    "    #precision & accuracy scores\n",
    "from sklearn.metrics import precision_score, recall_score, accuracy_score, f1_score\n",
    "print('Precision score: {:.4f}'.format(precision_score(y_test,y_pred1)))\n",
    "print('Recall score: {:.4f}'.format(recall_score(y_test,y_pred1)))\n",
    "print('Accuracy score: {:.4f}'.format(accuracy_score(y_test,y_pred1)))\n",
    "print('F1 score: {:.4f}'.format(f1_score(y_test,y_pred1)))"
   ]
  },
  {
   "cell_type": "code",
   "execution_count": 13,
   "metadata": {},
   "outputs": [
    {
     "name": "stdout",
     "output_type": "stream",
     "text": [
      "AUC for logistic regression: 0.824\n"
     ]
    }
   ],
   "source": [
    "from sklearn.metrics import roc_auc_score\n",
    "lr1_auc = roc_auc_score(y_test, logreg1.predict_proba(X_test)[:,1])\n",
    "\n",
    "print(\"AUC for logistic regression: {:.3f}\".format(lr1_auc))"
   ]
  },
  {
   "cell_type": "code",
   "execution_count": 14,
   "metadata": {},
   "outputs": [
    {
     "data": {
      "text/plain": [
       "[<matplotlib.lines.Line2D at 0x218145ed0f0>]"
      ]
     },
     "execution_count": 14,
     "metadata": {},
     "output_type": "execute_result"
    },
    {
     "data": {
      "text/plain": [
       "<matplotlib.legend.Legend at 0x218145ed518>"
      ]
     },
     "execution_count": 14,
     "metadata": {},
     "output_type": "execute_result"
    },
    {
     "data": {
      "text/plain": [
       "Text(0, 0.5, 'Recall')"
      ]
     },
     "execution_count": 14,
     "metadata": {},
     "output_type": "execute_result"
    },
    {
     "data": {
      "text/plain": [
       "Text(0.5, 0, '1-specificity')"
      ]
     },
     "execution_count": 14,
     "metadata": {},
     "output_type": "execute_result"
    },
    {
     "data": {
      "text/plain": [
       "Text(0.5, 1.0, 'ROC Curve')"
      ]
     },
     "execution_count": 14,
     "metadata": {},
     "output_type": "execute_result"
    },
    {
     "data": {
      "image/png": "[encoded data removed]",
      "text/plain": [
       "<Figure size 432x288 with 1 Axes>"
      ]
     },
     "metadata": {
      "needs_background": "light"
     },
     "output_type": "display_data"
    }
   ],
   "source": [
    "from sklearn.metrics import roc_curve\n",
    "\n",
    "y_pred_proba = logreg1.predict_proba(X_test)[::,1]\n",
    "\n",
    "fpr, tpr, threshold = roc_curve(y_test,  y_pred_proba)\n",
    "auc = roc_auc_score(y_test, y_pred_proba)\n",
    "plt.plot(fpr,tpr,label=\"auc=\"+str(auc))\n",
    "plt.legend(loc=4)\n",
    "plt.ylabel('Recall')\n",
    "plt.xlabel('1-specificity')\n",
    "plt.title('ROC Curve')\n",
    "plt.show()"
   ]
  },
  {
   "cell_type": "markdown",
   "metadata": {},
   "source": [
    "# Second Iteration"
   ]
  },
  {
   "cell_type": "code",
   "execution_count": 15,
   "metadata": {},
   "outputs": [],
   "source": [
    "    # Iteration 2\n",
    "X2 = new_df[['Beat', 'District', 'Ward', 'Community Area', 'Year', 'Month', 'Type_factor']]\n",
    "Y2 = new_df['Arrest'].astype('uint8')"
   ]
  },
  {
   "cell_type": "code",
   "execution_count": 16,
   "metadata": {},
   "outputs": [],
   "source": [
    "X_train2, X_test2, y_train2, y_test2 = train_test_split(X2, Y2, test_size=0.3, random_state=0)"
   ]
  },
  {
   "cell_type": "code",
   "execution_count": 17,
   "metadata": {},
   "outputs": [
    {
     "name": "stdout",
     "output_type": "stream",
     "text": [
      "lr.coef_: [[ 8.35121277e-06 -8.96400768e-03  1.11301105e-03 -4.80443149e-03\n",
      "  -6.73785030e-04 -7.77834939e-03  2.70510600e-01]]\n",
      "lr.intercept_: [5.00844559e-05]\n",
      "Training set score: 0.728\n",
      "Test set score: 0.728\n"
     ]
    }
   ],
   "source": [
    "logreg2 = LogisticRegression(class_weight = 'balanced').fit(X_train2, y_train2)\n",
    "\n",
    "print(\"lr.coef_:\", logreg2.coef_)\n",
    "print(\"lr.intercept_:\", logreg2.intercept_)\n",
    "\n",
    "print(\"Training set score: {:.3f}\".format(logreg2.score(X_train2, y_train2)))\n",
    "print(\"Test set score: {:.3f}\".format(logreg2.score(X_test2, y_test2)))"
   ]
  },
  {
   "cell_type": "markdown",
   "metadata": {},
   "source": [
    "# Second Iteration - Model Evaluation"
   ]
  },
  {
   "cell_type": "code",
   "execution_count": 18,
   "metadata": {},
   "outputs": [
    {
     "name": "stdout",
     "output_type": "stream",
     "text": [
      "[[1110861  427434]\n",
      " [ 155622  449649]]\n"
     ]
    }
   ],
   "source": [
    "    #Evaluating iteration 2\n",
    "y_pred2 = logreg2.predict(X_test2)\n",
    "\n",
    "print(confusion_matrix(y_test2, y_pred2))"
   ]
  },
  {
   "cell_type": "code",
   "execution_count": 19,
   "metadata": {},
   "outputs": [
    {
     "name": "stdout",
     "output_type": "stream",
     "text": [
      "Precision score: 0.5127\n",
      "Recall score: 0.7429\n",
      "Accuracy score: 0.7280\n",
      "F1 score: 0.6067\n"
     ]
    }
   ],
   "source": [
    "    #precision & accuracy scores\n",
    "print('Precision score: {:.4f}'.format(precision_score(y_test2,y_pred2)))\n",
    "print('Recall score: {:.4f}'.format(recall_score(y_test2,y_pred2)))\n",
    "print('Accuracy score: {:.4f}'.format(accuracy_score(y_test2,y_pred2)))\n",
    "print('F1 score: {:.4f}'.format(f1_score(y_test2,y_pred2)))"
   ]
  },
  {
   "cell_type": "code",
   "execution_count": 20,
   "metadata": {},
   "outputs": [
    {
     "name": "stdout",
     "output_type": "stream",
     "text": [
      "AUC for logistic regression: 0.798\n"
     ]
    }
   ],
   "source": [
    "lr2_auc = roc_auc_score(y_test2, logreg2.predict_proba(X_test2)[:,1])\n",
    "\n",
    "print(\"AUC for logistic regression: {:.3f}\".format(lr2_auc))"
   ]
  },
  {
   "cell_type": "code",
   "execution_count": 21,
   "metadata": {},
   "outputs": [
    {
     "data": {
      "text/plain": [
       "[<matplotlib.lines.Line2D at 0x2175bfc8160>]"
      ]
     },
     "execution_count": 21,
     "metadata": {},
     "output_type": "execute_result"
    },
    {
     "data": {
      "text/plain": [
       "<matplotlib.legend.Legend at 0x21814431780>"
      ]
     },
     "execution_count": 21,
     "metadata": {},
     "output_type": "execute_result"
    },
    {
     "data": {
      "text/plain": [
       "Text(0, 0.5, 'Recall')"
      ]
     },
     "execution_count": 21,
     "metadata": {},
     "output_type": "execute_result"
    },
    {
     "data": {
      "text/plain": [
       "Text(0.5, 0, '1-specificity')"
      ]
     },
     "execution_count": 21,
     "metadata": {},
     "output_type": "execute_result"
    },
    {
     "data": {
      "text/plain": [
       "Text(0.5, 1.0, 'ROC Curve')"
      ]
     },
     "execution_count": 21,
     "metadata": {},
     "output_type": "execute_result"
    },
    {
     "data": {
      "image/png": "[encoded data removed]",
      "text/plain": [
       "<Figure size 432x288 with 1 Axes>"
      ]
     },
     "metadata": {
      "needs_background": "light"
     },
     "output_type": "display_data"
    }
   ],
   "source": [
    "y_pred_proba2 = logreg2.predict_proba(X_test2)[::,1]\n",
    "\n",
    "fpr, tpr, threshold = roc_curve(y_test2,  y_pred_proba2)\n",
    "auc = roc_auc_score(y_test2, y_pred_proba2)\n",
    "plt.plot(fpr,tpr,label=\"auc=\"+str(auc))\n",
    "plt.legend(loc=4)\n",
    "plt.ylabel('Recall')\n",
    "plt.xlabel('1-specificity')\n",
    "plt.title('ROC Curve')\n",
    "plt.show()"
   ]
  }
 ],
 "metadata": {
  "kernelspec": {
   "display_name": "Python 3",
   "language": "python",
   "name": "python3"
  },
  "language_info": {
   "codemirror_mode": {
    "name": "ipython",
    "version": 3
   },
   "file_extension": ".py",
   "mimetype": "text/x-python",
   "name": "python",
   "nbconvert_exporter": "python",
   "pygments_lexer": "ipython3",
   "version": "3.7.3"
  }
 },
 "nbformat": 4,
 "nbformat_minor": 2
}
